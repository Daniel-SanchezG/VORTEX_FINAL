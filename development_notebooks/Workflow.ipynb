{
 "cells": [
  {
   "cell_type": "markdown",
   "id": "54184b58",
   "metadata": {},
   "source": [
    "# VORTEX (Variscite Origin Recognition Technology X-ray based) development notebooks"
   ]
  },
  {
   "cell_type": "markdown",
   "id": "eac15f67",
   "metadata": {},
   "source": [
    "\n",
    "**The notebooks in this directory demonstrate the development and application of different procedures presented in [\"A Forest of Green Beads: A Machine-Learning Based Framework to Determine the Geological Provenance of Prehistoric Variscite Artifacts\"](https://papers.ssrn.com/sol3/papers.cfm?abstract_id=5214878). You can reproduce the whole process, train different models and test their performance on the [real world test](./real_world+uncertainty_analysis.ipynb)**\n",
    "\n",
    "**this pipeline contains the following Notebooks:**\n",
    "\n",
    "---\n",
    "\n",
    "**1. [Preprocessing](./preprocessing.ipynb):** Here we employ different pre-processing techniques before training and testing the classification models.\n",
    "\n",
    "**2. [Full_model+feature importance](./Full_model+feature_importance.ipynb):** This notebook presents the training pipeline and feature importance analysis presented in section 2.3 of the paper. \n",
    "\n",
    "**3. [DestilledVortex](./DestilledVortex.ipynb):** Destilled Vortex is a lighter version of the model trained only with the most important variables obtained from [feature importance analysis](./Full_model+feature_importance.ipynb).\n",
    "\n",
    "**4. [SpecificModels](./SpecificModels.ipynb.ipynb):** Here we present the development of models for specific use cases whose datasets have specific subsets of features. The workflow is the same as for the [full model](./Full_model+feature_importance.ipynb),simply using specific subsets of the available features.\n",
    "\n",
    "**5. [SHAP_local](./SHAP_local.ipynb):** Here we present the Shapley values for the local explanations of the different sources according to paper result's section 3.2. For the local analysis, the samples belonging to the deposit under evaluation are assumed as the positive class.\n",
    "\n",
    "**6. [Feature_Importance_plots](./Feature_Importance_plots.ipynb):** Here we construct the plots presented in the paper as figures 3 and 5.\n",
    "\n",
    "**7. [real_world+uncertainty_analysis](./real_world+uncertainty_analysis.ipynb):** Here we develop a proof-of-concept of the model on a real-world data set. In addition, the provenance and uncertainty analyses presented in section 3.3  paper are developed."
   ]
  }
 ],
 "metadata": {
  "kernelspec": {
   "display_name": "Python 3 (ipykernel)",
   "language": "python",
   "name": "python3"
  },
  "language_info": {
   "codemirror_mode": {
    "name": "ipython",
    "version": 3
   },
   "file_extension": ".py",
   "mimetype": "text/x-python",
   "name": "python",
   "nbconvert_exporter": "python",
   "pygments_lexer": "ipython3",
   "version": "3.10.12"
  }
 },
 "nbformat": 4,
 "nbformat_minor": 5
}
