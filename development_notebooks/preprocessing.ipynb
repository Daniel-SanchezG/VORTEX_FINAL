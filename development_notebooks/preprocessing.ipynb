{
 "cells": [
  {
   "cell_type": "code",
   "execution_count": 1,
   "id": "1b861f8b-2e83-4dbc-a1f5-5133f2d53ad1",
   "metadata": {},
   "outputs": [],
   "source": [
    "%load_ext autoreload\n",
    "%autoreload 2\n",
    "\n",
    "import pandas as pd\n",
    "import numpy as np\n",
    "from pycaret.classification import * # Machine learning tools\n",
    "import imblearn  # Resampling\n",
    "from imblearn.over_sampling import SMOTE \n",
    "from imblearn.under_sampling import CondensedNearestNeighbour \n",
    "from imblearn.under_sampling import EditedNearestNeighbours\n",
    "from sklearn.metrics import ConfusionMatrixDisplay # Model evaluation\n",
    "import matplotlib.pyplot as plt # Visualization\n",
    "import seaborn as sns\n",
    "from sklearn.metrics import classification_report # Model evaluation report\n",
    "from ipywidgets import widgets # Interactive functions\n",
    "from sklearn.metrics import classification_report"
   ]
  },
  {
   "cell_type": "code",
   "execution_count": 3,
   "id": "565b6a62-8c17-4b11-94b3-116246c96e23",
   "metadata": {},
   "outputs": [
    {
     "name": "stdout",
     "output_type": "stream",
     "text": [
      "<class 'pandas.core.frame.DataFrame'>\n",
      "RangeIndex: 1816 entries, 0 to 1815\n",
      "Data columns (total 67 columns):\n",
      " #   Column      Non-Null Count  Dtype  \n",
      "---  ------      --------------  -----  \n",
      " 0   ID          1816 non-null   object \n",
      " 1   Inv. Pieza  1346 non-null   object \n",
      " 2   Site        1816 non-null   object \n",
      " 3   Contexto    1805 non-null   object \n",
      " 4   Contexto 1  0 non-null      float64\n",
      " 5   Contexto 2  1 non-null      float64\n",
      " 6   PK_coord    592 non-null    object \n",
      " 7   Class       1816 non-null   object \n",
      " 8   XRD_code    266 non-null    object \n",
      " 9   XRD_path    264 non-null    object \n",
      " 10  XRD 1       271 non-null    object \n",
      " 11  XRD 2       121 non-null    object \n",
      " 12  XRD 3       38 non-null     object \n",
      " 13  XRD 4       3 non-null      object \n",
      " 14  Group       268 non-null    object \n",
      " 15  Subgroup    268 non-null    object \n",
      " 16  Hey's CIM   268 non-null    object \n",
      " 17  ID_XMET     1814 non-null   object \n",
      " 18  Method      1815 non-null   object \n",
      " 19  Date XRF    1815 non-null   object \n",
      " 20  Duration    1815 non-null   float64\n",
      " 21  Mg          1816 non-null   float64\n",
      " 22  Al          1816 non-null   float64\n",
      " 23  Si          1816 non-null   float64\n",
      " 24  P           1816 non-null   float64\n",
      " 25  S           1816 non-null   float64\n",
      " 26  Cl          1816 non-null   float64\n",
      " 27  K           1816 non-null   float64\n",
      " 28  Ca          1816 non-null   float64\n",
      " 29  Sc          1816 non-null   float64\n",
      " 30  Ti          1816 non-null   float64\n",
      " 31  V           1816 non-null   float64\n",
      " 32  Cr          1816 non-null   float64\n",
      " 33  Mn          1816 non-null   float64\n",
      " 34  Fe          1816 non-null   float64\n",
      " 35  Co          1816 non-null   float64\n",
      " 36  Ni          1816 non-null   float64\n",
      " 37  Cu          1816 non-null   float64\n",
      " 38  Zn          1816 non-null   float64\n",
      " 39  Ga          1816 non-null   float64\n",
      " 40  Ge          1816 non-null   float64\n",
      " 41  As          1816 non-null   float64\n",
      " 42  Se          1816 non-null   float64\n",
      " 43  Br          1816 non-null   float64\n",
      " 44  Rb          1816 non-null   float64\n",
      " 45  Sr          1816 non-null   float64\n",
      " 46  Y           1816 non-null   float64\n",
      " 47  Zr          1816 non-null   float64\n",
      " 48  Nb          1816 non-null   float64\n",
      " 49  Mo          1816 non-null   float64\n",
      " 50  Ru          1816 non-null   float64\n",
      " 51  Pd          1816 non-null   float64\n",
      " 52  Ag          1816 non-null   float64\n",
      " 53  Cd          1816 non-null   float64\n",
      " 54  In          1816 non-null   float64\n",
      " 55  Sn          1816 non-null   float64\n",
      " 56  Sb          1816 non-null   float64\n",
      " 57  Te          1816 non-null   float64\n",
      " 58  Ba          1816 non-null   float64\n",
      " 59  Ta          1816 non-null   float64\n",
      " 60  W           1816 non-null   float64\n",
      " 61  Au          1816 non-null   float64\n",
      " 62  Hg          1816 non-null   float64\n",
      " 63  Tl          1816 non-null   float64\n",
      " 64  Pb          1816 non-null   float64\n",
      " 65  Th          1816 non-null   float64\n",
      " 66  suma        1816 non-null   float64\n",
      "dtypes: float64(49), object(18)\n",
      "memory usage: 950.7+ KB\n"
     ]
    }
   ],
   "source": [
    "#loading data\n",
    "#df = pd.read_csv(\"DATA/20240812_vortex_trainning_float_formmated.csv\", encoding='latin-1') \n",
    "df = pd.read_excel('./data/input_data.xlsx', engine='openpyxl')\n",
    "df.info()"
   ]
  },
  {
   "cell_type": "code",
   "execution_count": 5,
   "id": "f9523321-fa49-42de-aa97-6a42e41efc64",
   "metadata": {},
   "outputs": [
    {
     "data": {
      "text/plain": [
       "False"
      ]
     },
     "execution_count": 5,
     "metadata": {},
     "output_type": "execute_result"
    }
   ],
   "source": [
    "\n",
    "#Some basic Feature engineering\n",
    "data = df.drop(df.iloc[:, : 22], axis=1)\n",
    "#Comprobamos que no hay valores faltantes\n",
    "# Checking missing values\n",
    "data.isnull().any().any()"
   ]
  },
  {
   "cell_type": "code",
   "execution_count": 6,
   "id": "43fd27d3-14ed-4c83-8c44-282e69191610",
   "metadata": {},
   "outputs": [
    {
     "name": "stdout",
     "output_type": "stream",
     "text": [
      "<class 'pandas.core.frame.DataFrame'>\n",
      "RangeIndex: 1816 entries, 0 to 1815\n",
      "Data columns (total 47 columns):\n",
      " #   Column  Non-Null Count  Dtype  \n",
      "---  ------  --------------  -----  \n",
      " 0   Al      1816 non-null   float64\n",
      " 1   Si      1816 non-null   float64\n",
      " 2   P       1816 non-null   float64\n",
      " 3   S       1816 non-null   float64\n",
      " 4   Cl      1816 non-null   float64\n",
      " 5   K       1816 non-null   float64\n",
      " 6   Ca      1816 non-null   float64\n",
      " 7   Sc      1816 non-null   float64\n",
      " 8   Ti      1816 non-null   float64\n",
      " 9   V       1816 non-null   float64\n",
      " 10  Cr      1816 non-null   float64\n",
      " 11  Mn      1816 non-null   float64\n",
      " 12  Fe      1816 non-null   float64\n",
      " 13  Co      1816 non-null   float64\n",
      " 14  Ni      1816 non-null   float64\n",
      " 15  Cu      1816 non-null   float64\n",
      " 16  Zn      1816 non-null   float64\n",
      " 17  Ga      1816 non-null   float64\n",
      " 18  Ge      1816 non-null   float64\n",
      " 19  As      1816 non-null   float64\n",
      " 20  Se      1816 non-null   float64\n",
      " 21  Br      1816 non-null   float64\n",
      " 22  Rb      1816 non-null   float64\n",
      " 23  Sr      1816 non-null   float64\n",
      " 24  Y       1816 non-null   float64\n",
      " 25  Zr      1816 non-null   float64\n",
      " 26  Nb      1816 non-null   float64\n",
      " 27  Mo      1816 non-null   float64\n",
      " 28  Ru      1816 non-null   float64\n",
      " 29  Pd      1816 non-null   float64\n",
      " 30  Ag      1816 non-null   float64\n",
      " 31  Cd      1816 non-null   float64\n",
      " 32  In      1816 non-null   float64\n",
      " 33  Sn      1816 non-null   float64\n",
      " 34  Sb      1816 non-null   float64\n",
      " 35  Te      1816 non-null   float64\n",
      " 36  Ba      1816 non-null   float64\n",
      " 37  Ta      1816 non-null   float64\n",
      " 38  W       1816 non-null   float64\n",
      " 39  Au      1816 non-null   float64\n",
      " 40  Hg      1816 non-null   float64\n",
      " 41  Tl      1816 non-null   float64\n",
      " 42  Pb      1816 non-null   float64\n",
      " 43  Th      1816 non-null   float64\n",
      " 44  suma    1816 non-null   float64\n",
      " 45  Site    1816 non-null   object \n",
      " 46  id      1816 non-null   object \n",
      "dtypes: float64(45), object(2)\n",
      "memory usage: 666.9+ KB\n"
     ]
    }
   ],
   "source": [
    "#data = data.drop(['suma'], axis=1)\n",
    "data['Site'] = df['Site']\n",
    "data['id'] = df['ID']\n",
    "data.info()"
   ]
  },
  {
   "cell_type": "code",
   "execution_count": 7,
   "id": "9ca234ae-e03f-4ce1-81ae-dcd6fbd35657",
   "metadata": {},
   "outputs": [
    {
     "name": "stdout",
     "output_type": "stream",
     "text": [
      "Número de ids duplicados: 14\n",
      "IDs duplicados:\n",
      "1094                    G-84-218\n",
      "1093                    G-84-218\n",
      "1178                     G-85-80\n",
      "1179                     G-85-80\n",
      "392               GEOLOGICA LEON\n",
      "393               GEOLOGICA LEON\n",
      "394               GEOLOGICA LEON\n",
      "395               GEOLOGICA LEON\n",
      "396     GEOLOGICA QUINTANA MARCO\n",
      "397     GEOLOGICA QUINTANA MARCO\n",
      "440            PCM2/10/A/4-41-10\n",
      "893            PCM2/10/A/4-41-10\n",
      "441            PCM2/10/A/4-41-11\n",
      "894            PCM2/10/A/4-41-11\n",
      "897           PCM2/10/E/SUP-25-8\n",
      "759           PCM2/10/E/SUP-25-8\n",
      "672            PCM2/10/SUP-36-11\n",
      "760            PCM2/10/SUP-36-11\n",
      "899            PCM2/10/SUP-36-18\n",
      "674            PCM2/10/SUP-36-18\n",
      "900            PCM2/10/SUP-36-24\n",
      "675            PCM2/10/SUP-36-24\n",
      "677            PCM2/10/SUP-36-30\n",
      "901            PCM2/10/SUP-36-30\n",
      "902                       SC2-29\n",
      "1794                      SC2-29\n",
      "Name: id, dtype: object\n",
      "Tamaño original de data: (1816, 47)\n",
      "Tamaño de data sin duplicados: (1802, 47)\n",
      "Número de ids duplicados restantes: 0\n"
     ]
    }
   ],
   "source": [
    "# 1. Comprobar si hay duplicados\n",
    "duplicados = data['id'].duplicated().sum()\n",
    "print(f\"Número de ids duplicados: {duplicados}\")\n",
    "\n",
    "# 2. Ver los ids duplicados (si existen)\n",
    "if duplicados > 0:\n",
    "    print(\"IDs duplicados:\")\n",
    "    print(data[data['id'].duplicated(keep=False)]['id'].sort_values())\n",
    "\n",
    "# 3. Eliminar duplicados, manteniendo la primera aparición\n",
    "data_sin_duplicados = data.drop_duplicates(subset='id', keep='first')\n",
    "\n",
    "# 4. Verificar que se eliminaron los duplicados\n",
    "print(f\"Tamaño original de data: {data.shape}\")\n",
    "print(f\"Tamaño de data sin duplicados: {data_sin_duplicados.shape}\")\n",
    "\n",
    "# 5. Comprobar nuevamente que no hay duplicados\n",
    "duplicados_restantes = data_sin_duplicados['id'].duplicated().sum()\n",
    "print(f\"Número de ids duplicados restantes: {duplicados_restantes}\")\n",
    "\n",
    "# 6. Si estás satisfecho con el resultado, puedes asignar el resultado de vuelta a 'data'\n",
    "data = data_sin_duplicados\n",
    "\n",
    "# 7. Reiniciar los índices si es necesario\n",
    "data.reset_index(drop=True, inplace=True)"
   ]
  },
  {
   "cell_type": "code",
   "execution_count": 8,
   "id": "191da70a-5fe8-4417-b8e1-6d439783951a",
   "metadata": {},
   "outputs": [
    {
     "data": {
      "text/plain": [
       "1802"
      ]
     },
     "execution_count": 8,
     "metadata": {},
     "output_type": "execute_result"
    }
   ],
   "source": [
    "data.id.nunique()"
   ]
  },
  {
   "cell_type": "markdown",
   "id": "12a42501-496d-4af5-88ea-27f9f0591d77",
   "metadata": {},
   "source": [
    "We will create a random feature to be used as a threshold for choosing important features later on."
   ]
  },
  {
   "cell_type": "code",
   "execution_count": 9,
   "id": "2ff54c16-3039-427b-a43a-bdbab019dd90",
   "metadata": {},
   "outputs": [
    {
     "name": "stdout",
     "output_type": "stream",
     "text": [
      "<class 'pandas.core.frame.DataFrame'>\n",
      "RangeIndex: 1802 entries, 0 to 1801\n",
      "Data columns (total 47 columns):\n",
      " #   Column  Non-Null Count  Dtype  \n",
      "---  ------  --------------  -----  \n",
      " 0   Al      1802 non-null   float64\n",
      " 1   Si      1802 non-null   float64\n",
      " 2   P       1802 non-null   float64\n",
      " 3   S       1802 non-null   float64\n",
      " 4   Cl      1802 non-null   float64\n",
      " 5   K       1802 non-null   float64\n",
      " 6   Ca      1802 non-null   float64\n",
      " 7   Sc      1802 non-null   float64\n",
      " 8   Ti      1802 non-null   float64\n",
      " 9   V       1802 non-null   float64\n",
      " 10  Cr      1802 non-null   float64\n",
      " 11  Mn      1802 non-null   float64\n",
      " 12  Fe      1802 non-null   float64\n",
      " 13  Co      1802 non-null   float64\n",
      " 14  Ni      1802 non-null   float64\n",
      " 15  Cu      1802 non-null   float64\n",
      " 16  Zn      1802 non-null   float64\n",
      " 17  Ga      1802 non-null   float64\n",
      " 18  Ge      1802 non-null   float64\n",
      " 19  As      1802 non-null   float64\n",
      " 20  Se      1802 non-null   float64\n",
      " 21  Br      1802 non-null   float64\n",
      " 22  Rb      1802 non-null   float64\n",
      " 23  Sr      1802 non-null   float64\n",
      " 24  Y       1802 non-null   float64\n",
      " 25  Zr      1802 non-null   float64\n",
      " 26  Nb      1802 non-null   float64\n",
      " 27  Mo      1802 non-null   float64\n",
      " 28  Ru      1802 non-null   float64\n",
      " 29  Pd      1802 non-null   float64\n",
      " 30  Ag      1802 non-null   float64\n",
      " 31  Cd      1802 non-null   float64\n",
      " 32  In      1802 non-null   float64\n",
      " 33  Sn      1802 non-null   float64\n",
      " 34  Sb      1802 non-null   float64\n",
      " 35  Te      1802 non-null   float64\n",
      " 36  Ba      1802 non-null   float64\n",
      " 37  Ta      1802 non-null   float64\n",
      " 38  W       1802 non-null   float64\n",
      " 39  Au      1802 non-null   float64\n",
      " 40  Hg      1802 non-null   float64\n",
      " 41  Tl      1802 non-null   float64\n",
      " 42  Pb      1802 non-null   float64\n",
      " 43  Th      1802 non-null   float64\n",
      " 44  suma    1802 non-null   float64\n",
      " 45  Site    1802 non-null   object \n",
      " 46  id      1802 non-null   object \n",
      "dtypes: float64(45), object(2)\n",
      "memory usage: 661.8+ KB\n"
     ]
    },
    {
     "data": {
      "text/plain": [
       "Index(['Al', 'Si', 'P', 'S', 'Cl', 'K', 'Ca', 'Sc', 'Ti', 'V', 'Cr', 'Mn',\n",
       "       'Fe', 'Co', 'Ni', 'Cu', 'Zn', 'Ga', 'Ge', 'As', 'Se', 'Br', 'Rb', 'Sr',\n",
       "       'Y', 'Zr', 'Nb', 'Mo', 'Ru', 'Pd', 'Ag', 'Cd', 'In', 'Sn', 'Sb', 'Te',\n",
       "       'Ba', 'Ta', 'W', 'Au', 'Hg', 'Tl', 'Pb', 'Th', 'suma', 'Site', 'id'],\n",
       "      dtype='object')"
      ]
     },
     "execution_count": 9,
     "metadata": {},
     "output_type": "execute_result"
    }
   ],
   "source": [
    "data.info()\n",
    "data.columns"
   ]
  },
  {
   "cell_type": "code",
   "execution_count": 10,
   "id": "969194d8-7702-4de3-886c-12594548906d",
   "metadata": {},
   "outputs": [
    {
     "data": {
      "text/plain": [
       "Site\n",
       "CT                     828\n",
       "PDLC                   511\n",
       "PCM                    439\n",
       "SX                       9\n",
       "MINA TURQUESA/COBRE      9\n",
       "SARRABUS                 3\n",
       "LEON                     1\n",
       "QUINTANA MARCO           1\n",
       "Zamora                   1\n",
       "Name: count, dtype: int64"
      ]
     },
     "execution_count": 10,
     "metadata": {},
     "output_type": "execute_result"
    }
   ],
   "source": [
    "# Distribución en el target\n",
    "target = data['Site'].value_counts()\n",
    "target"
   ]
  },
  {
   "cell_type": "code",
   "execution_count": 11,
   "id": "893cae8f-64f8-4256-ad71-852a429bd2d7",
   "metadata": {},
   "outputs": [],
   "source": [
    "# Eliminación de casos. Clases <10 para el target_Group\n",
    "# Case deletion for classes >10\n",
    "casos = target[target <10]\n",
    "values = casos.index\n",
    "values\n",
    "deleted_cases= data[data['Site'].isin(values)]\n",
    "case_del = deleted_cases.index\n",
    "data.drop(case_del, inplace=True)"
   ]
  },
  {
   "cell_type": "code",
   "execution_count": null,
   "id": "1045fcf3-c34a-4093-8ad8-4a1427832dc9",
   "metadata": {},
   "outputs": [],
   "source": [
    "data['Site'].value_counts()"
   ]
  },
  {
   "cell_type": "code",
   "execution_count": null,
   "id": "e22d403c-5183-4827-b430-e6b2030240c3",
   "metadata": {},
   "outputs": [],
   "source": [
    "data.to_excel('./data/final_input_data.xlsx')"
   ]
  },
  {
   "cell_type": "code",
   "execution_count": 12,
   "id": "e4627ede-57fa-4b14-9c83-4a138dd5b047",
   "metadata": {},
   "outputs": [
    {
     "name": "stdout",
     "output_type": "stream",
     "text": [
      "Data for further procedures: (1600, 47)\n",
      "Data for final validation: (178, 47)\n"
     ]
    }
   ],
   "source": [
    "# Final Validation Set(VFS)\n",
    "data_trainning = data.sample(frac=0.90, random_state=786)\n",
    "fvs = data.drop(data_trainning.index)\n",
    "data_trainning.reset_index(inplace=True, drop=True)\n",
    "fvs.reset_index(inplace=True, drop=True)\n",
    "print('Data for further procedures: ' + str(data_trainning.shape))\n",
    "print('Data for final validation: ' + str(fvs.shape))\n"
   ]
  },
  {
   "cell_type": "code",
   "execution_count": null,
   "id": "3b3447d6-a1ac-404e-9c68-ed68c890b1fb",
   "metadata": {},
   "outputs": [],
   "source": [
    "fvs.to_csv('./data/final_validation_set.csv')"
   ]
  },
  {
   "cell_type": "code",
   "execution_count": 13,
   "id": "6b69d414-6089-48ab-8e56-16946e333791",
   "metadata": {},
   "outputs": [
    {
     "data": {
      "text/plain": [
       "Site\n",
       "CT      76\n",
       "PDLC    54\n",
       "PCM     48\n",
       "Name: count, dtype: int64"
      ]
     },
     "execution_count": 13,
     "metadata": {},
     "output_type": "execute_result"
    }
   ],
   "source": [
    "fvs.Site.value_counts()"
   ]
  },
  {
   "cell_type": "code",
   "execution_count": 14,
   "id": "de5f0351-393d-4d9b-9f62-5a921254817b",
   "metadata": {},
   "outputs": [
    {
     "data": {
      "text/plain": [
       "Site\n",
       "CT      752\n",
       "PDLC    457\n",
       "PCM     391\n",
       "Name: count, dtype: int64"
      ]
     },
     "execution_count": 14,
     "metadata": {},
     "output_type": "execute_result"
    }
   ],
   "source": [
    "data_trainning.Site.value_counts()"
   ]
  },
  {
   "cell_type": "markdown",
   "id": "4fafc95f-491c-4ad7-8664-d71667d14370",
   "metadata": {},
   "source": [
    "#### Creating our Classification function:"
   ]
  },
  {
   "cell_type": "code",
   "execution_count": 15,
   "id": "0f6c8252-5fda-4c76-a8c6-b7bd20ca1353",
   "metadata": {},
   "outputs": [],
   "source": [
    "X = data_trainning.drop(['Site', 'id'], axis=1)\n",
    "y = data_trainning['Site']"
   ]
  },
  {
   "cell_type": "markdown",
   "id": "7ae046a5-767d-4851-a4b8-664b984b9381",
   "metadata": {},
   "source": [
    "#### Data Aumentagtion of minority classes (SMOTE)\n",
    "We carry out the Synthetic Minority Oversampling Technique"
   ]
  },
  {
   "cell_type": "code",
   "execution_count": 18,
   "id": "4206d946-9ac2-44c2-8abc-78ee15504626",
   "metadata": {},
   "outputs": [
    {
     "data": {
      "text/plain": [
       "Site\n",
       "PDLC    752\n",
       "CT      752\n",
       "PCM     752\n",
       "Name: count, dtype: int64"
      ]
     },
     "execution_count": 18,
     "metadata": {},
     "output_type": "execute_result"
    },
    {
     "data": {
      "image/png": "[encoded data removed]",
      "text/plain": [
       "<Figure size 800x550 with 1 Axes>"
      ]
     },
     "metadata": {},
     "output_type": "display_data"
    }
   ],
   "source": [
    "# oversampling strategy\n",
    "smote = SMOTE()\n",
    "X_smote, y_smote = smote.fit_resample(X, y)\n",
    "\n",
    "y_smote.value_counts().plot(kind='bar')\n",
    "#plt.savefig('SMOTE_distribution.png',dpi=200, bbox_inches='tight')\n",
    "y_smote.value_counts()"
   ]
  },
  {
   "cell_type": "markdown",
   "id": "49e6d0e7-576e-4325-b3fd-eeef8748ed5a",
   "metadata": {},
   "source": [
    "#### We have created a balanced synthetic data set with 752 cases per class."
   ]
  },
  {
   "cell_type": "code",
   "execution_count": 19,
   "id": "55ec3999-bc30-47db-800f-615c4b903fe8",
   "metadata": {},
   "outputs": [],
   "source": [
    "# Creating final resampled dataset\n",
    "smote_data = X_smote\n",
    "smote_data['Site'] = y_smote"
   ]
  },
  {
   "cell_type": "code",
   "execution_count": 20,
   "id": "d268daca-6c30-4a11-b4bd-6bd2781a0afe",
   "metadata": {},
   "outputs": [
    {
     "name": "stdout",
     "output_type": "stream",
     "text": [
      "<class 'pandas.core.frame.DataFrame'>\n",
      "RangeIndex: 2256 entries, 0 to 2255\n",
      "Data columns (total 46 columns):\n",
      " #   Column  Non-Null Count  Dtype  \n",
      "---  ------  --------------  -----  \n",
      " 0   Al      2256 non-null   float64\n",
      " 1   Si      2256 non-null   float64\n",
      " 2   P       2256 non-null   float64\n",
      " 3   S       2256 non-null   float64\n",
      " 4   Cl      2256 non-null   float64\n",
      " 5   K       2256 non-null   float64\n",
      " 6   Ca      2256 non-null   float64\n",
      " 7   Sc      2256 non-null   float64\n",
      " 8   Ti      2256 non-null   float64\n",
      " 9   V       2256 non-null   float64\n",
      " 10  Cr      2256 non-null   float64\n",
      " 11  Mn      2256 non-null   float64\n",
      " 12  Fe      2256 non-null   float64\n",
      " 13  Co      2256 non-null   float64\n",
      " 14  Ni      2256 non-null   float64\n",
      " 15  Cu      2256 non-null   float64\n",
      " 16  Zn      2256 non-null   float64\n",
      " 17  Ga      2256 non-null   float64\n",
      " 18  Ge      2256 non-null   float64\n",
      " 19  As      2256 non-null   float64\n",
      " 20  Se      2256 non-null   float64\n",
      " 21  Br      2256 non-null   float64\n",
      " 22  Rb      2256 non-null   float64\n",
      " 23  Sr      2256 non-null   float64\n",
      " 24  Y       2256 non-null   float64\n",
      " 25  Zr      2256 non-null   float64\n",
      " 26  Nb      2256 non-null   float64\n",
      " 27  Mo      2256 non-null   float64\n",
      " 28  Ru      2256 non-null   float64\n",
      " 29  Pd      2256 non-null   float64\n",
      " 30  Ag      2256 non-null   float64\n",
      " 31  Cd      2256 non-null   float64\n",
      " 32  In      2256 non-null   float64\n",
      " 33  Sn      2256 non-null   float64\n",
      " 34  Sb      2256 non-null   float64\n",
      " 35  Te      2256 non-null   float64\n",
      " 36  Ba      2256 non-null   float64\n",
      " 37  Ta      2256 non-null   float64\n",
      " 38  W       2256 non-null   float64\n",
      " 39  Au      2256 non-null   float64\n",
      " 40  Hg      2256 non-null   float64\n",
      " 41  Tl      2256 non-null   float64\n",
      " 42  Pb      2256 non-null   float64\n",
      " 43  Th      2256 non-null   float64\n",
      " 44  suma    2256 non-null   float64\n",
      " 45  Site    2256 non-null   object \n",
      "dtypes: float64(45), object(1)\n",
      "memory usage: 810.9+ KB\n"
     ]
    }
   ],
   "source": [
    "# Final dataset shape after resampling\n",
    "smote_data.shape\n",
    "smote_data.to_excel('./data/final_resampled_data.xlsx')\n",
    "smote_data.info()"
   ]
  }
 ],
 "metadata": {
  "kernelspec": {
   "display_name": "Python 3 (ipykernel)",
   "language": "python",
   "name": "python3"
  },
  "language_info": {
   "codemirror_mode": {
    "name": "ipython",
    "version": 3
   },
   "file_extension": ".py",
   "mimetype": "text/x-python",
   "name": "python",
   "nbconvert_exporter": "python",
   "pygments_lexer": "ipython3",
   "version": "3.10.12"
  }
 },
 "nbformat": 4,
 "nbformat_minor": 5
}
