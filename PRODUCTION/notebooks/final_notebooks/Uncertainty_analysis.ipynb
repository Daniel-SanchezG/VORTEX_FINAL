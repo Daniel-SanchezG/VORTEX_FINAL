{
 "cells": [
  {
   "cell_type": "code",
   "execution_count": null,
   "id": "610c9f8f-9f27-46fc-88ed-a95c68497400",
   "metadata": {},
   "outputs": [],
   "source": [
    "%load_ext autoreload\n",
    "%autoreload 2\n",
    "import pandas as pd \n",
    "import os\n",
    "import datetime\n",
    "import numpy as np\n",
    "from scipy.stats import entropy\n",
    "import matplotlib.pyplot as plt\n",
    "import seaborn as sns"
   ]
  },
  {
   "cell_type": "code",
   "execution_count": null,
   "id": "7f04d946-336f-4685-8474-033f51154d57",
   "metadata": {},
   "outputs": [],
   "source": [
    "def uncertainty_analysis(prediction_df, confidence_threshold=0.7):\n",
    "\n",
    "\n",
    "    \"\"\"\n",
    "    Performs uncertainty analysis per site\n",
    "\n",
    "    Args:\n",
    "        prediction_df: df with probabilistic predictions\n",
    "        confidence_treshold: threshold to mark the prediction as uncertain\n",
    "     \n",
    "    \"\"\"\n",
    "    # Convert score columns to numbers\n",
    "    score_cols = ['prediction_score_CT', 'prediction_score_PCM', 'prediction_score_PDLC']\n",
    "    for col in score_cols:\n",
    "        df[col] = df[col].str.replace(',', '.').astype(float)\n",
    "    \n",
    "    # Obtaining probabilities\n",
    "    probas = df[score_cols].values\n",
    "    \n",
    "    # Obtain prediction labels and confidence\n",
    "    predictions = df['predicciones'].values\n",
    "    confidences = np.max(probas, axis=1)\n",
    "    \n",
    "    # Marking predictions below the threshold as uncertain\n",
    "    uncertain_mask = confidences < confidence_threshold\n",
    "    predictions_with_uncertainty = predictions.copy()\n",
    "    predictions_with_uncertainty[uncertain_mask] = 'uncertain'\n",
    "    \n",
    "    # Calculate entropy \n",
    "    entropies = np.array([entropy(probs, base=2) for probs in probas])\n",
    "    \n",
    "    # Create DataFrame with results\n",
    "    results_df = pd.DataFrame({\n",
    "        'id': df['id'],\n",
    "        'Site': df['Site'],\n",
    "        'Original_predictions': predictions,\n",
    "        'prediction_score_CT': df['prediction_score_CT'],\n",
    "        'prediction_score_PCM':df['prediction_score_PCM'],\n",
    "        'prediction_score_PDLC': df['prediction_score_PDLC'],\n",
    "        'Uncertainty_treshold_predictions': predictions_with_uncertainty,\n",
    "        'entropy': entropies\n",
    "    })\n",
    "    \n",
    "    # Print basic metrics\n",
    "    n_uncertain = np.sum(uncertain_mask)\n",
    "    print(f\"Uncertain predictions: {n_uncertain}/{len(df)} ({(n_uncertain/len(df)*100):.1f}%)\")\n",
    "    print(f\"Mean dataset entropy: {entropies.mean():.3f}\")\n",
    "    \n",
    "    \n",
    "    # Calculate and display median entropy per site\n",
    "    print(\"\\nMedian entropy per site:\")\n",
    "    entropy_median_by_site = results_df.groupby('Site')['entropy'].median()\n",
    "    for site, median in entropy_median_by_site.items():\n",
    "        print(f\"{site}: {median:.3f}\")\n",
    "    \n",
    "    return results_df"
   ]
  },
  {
   "cell_type": "code",
   "execution_count": null,
   "id": "6c1d29d8-dd2b-461d-9040-1981aaabdfef",
   "metadata": {},
   "outputs": [],
   "source": [
    "# Cargar y procesar datos\n",
    "df = pd.read_csv('/home/dsg/VORTEX_FINAL/PRODUCTION/DATA/20241118_PrediccionesVortexTodas.csv',encoding='latin-1')\n",
    "results = predictions_uncertainty_analysis(df, confidence_threshold=0.7)\n",
    "\n",
    "# Mostrar primeras filas de resultados\n",
    "print(\"\\nPrimeras 5 filas de resultados:\")\n",
    "results.head()"
   ]
  }
 ],
 "metadata": {
  "kernelspec": {
   "display_name": "Python 3 (ipykernel)",
   "language": "python",
   "name": "python3"
  },
  "language_info": {
   "codemirror_mode": {
    "name": "ipython",
    "version": 3
   },
   "file_extension": ".py",
   "mimetype": "text/x-python",
   "name": "python",
   "nbconvert_exporter": "python",
   "pygments_lexer": "ipython3",
   "version": "3.10.12"
  }
 },
 "nbformat": 4,
 "nbformat_minor": 5
}
