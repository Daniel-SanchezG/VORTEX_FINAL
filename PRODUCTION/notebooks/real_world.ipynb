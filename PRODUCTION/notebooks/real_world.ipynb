{
 "cells": [
  {
   "cell_type": "code",
   "execution_count": null,
   "id": "e6732cda-6bce-4a35-b056-2651d329b28b",
   "metadata": {},
   "outputs": [],
   "source": [
    "import pandas as pd\n",
    "import os\n",
    "from pycaret.classification import load_model, predict_model\n",
    "import datetime"
   ]
  },
  {
   "cell_type": "code",
   "execution_count": null,
   "id": "59fc9535-a008-44ae-9266-03328e0317c8",
   "metadata": {},
   "outputs": [],
   "source": [
    "#Working directory\n",
    "\n",
    "#df = pd.read_excel('/home/dsg/vortex/PRODUCTION/DATA/processed/training_data.xlsx'',sheet_name='can_tintorer', engine='openpyxl')\n",
    "#df = pd.read_excel('/home/dsg/vortex/PRODUCTION/DATA/processed/training_data.xlsx'',sheet_name='encinsasola', engine='openpyxl') \n",
    "df = pd.read_excel('/home/dsg/vortex/PRODUCTION/DATA/processed/training_data.xlsx',sheet_name='aliste', engine='openpyxl')\n",
    "df.info()\n"
   ]
  },
  {
   "cell_type": "code",
   "execution_count": null,
   "id": "fe070084-d417-4ab8-8990-24c9a7e068b2",
   "metadata": {},
   "outputs": [],
   "source": [
    "#models\n",
    " modelo = load_model(model_path)"
   ]
  }
 ],
 "metadata": {
  "kernelspec": {
   "display_name": "Python 3 (ipykernel)",
   "language": "python",
   "name": "python3"
  },
  "language_info": {
   "codemirror_mode": {
    "name": "ipython",
    "version": 3
   },
   "file_extension": ".py",
   "mimetype": "text/x-python",
   "name": "python",
   "nbconvert_exporter": "python",
   "pygments_lexer": "ipython3",
   "version": "3.10.12"
  }
 },
 "nbformat": 4,
 "nbformat_minor": 5
}
