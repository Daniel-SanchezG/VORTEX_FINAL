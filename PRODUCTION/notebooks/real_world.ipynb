{
 "cells": [
  {
   "cell_type": "code",
   "execution_count": null,
   "id": "e6732cda-6bce-4a35-b056-2651d329b28b",
   "metadata": {},
   "outputs": [],
   "source": [
    "%load_ext autoreload\n",
    "%autoreload 2\n",
    "import pandas as pd\n",
    "import pickle  \n",
    "import os\n",
    "import pandas as pd\n",
    "import os\n",
    "from pycaret.classification import load_model, predict_model\n",
    "import datetime"
   ]
  },
  {
   "cell_type": "code",
   "execution_count": null,
   "id": "59fc9535-a008-44ae-9266-03328e0317c8",
   "metadata": {},
   "outputs": [],
   "source": [
    "#Loading different datasets\n",
    "#df = pd.read_excel('/home/dsg/VORTEX_FINAL/PRODUCTION/DATA/real_world/real_world_data.xlsx',sheet_name='quiruelas', engine='openpyxl')\n",
    "#df = pd.read_excel('/home/dsg/VORTEX_FINAL/PRODUCTION/DATA/real_world/real_world_data.xlsx',sheet_name='v_higueras', engine='openpyxl')\n",
    "#df = pd.read_excel('/home/dsg/VORTEX_FINAL/PRODUCTION/DATA/real_world/real_world_data.xlsx',sheet_name='Alberite', engine='openpyxl')\n",
    "#df = pd.read_excel('/home/dsg/VORTEX_FINAL/PRODUCTION/DATA/real_world/real_world_data.xlsx',sheet_name='Paternanbidea', engine='openpyxl')\n",
    "#df = pd.read_excel('/home/dsg/VORTEX_FINAL/PRODUCTION/DATA/real_world/real_world_data.xlsx',sheet_name='Can_Gambus', engine='openpyxl')\n",
    "#df = pd.read_excel('/home/dsg/VORTEX_FINAL/PRODUCTION/DATA/real_world/real_world_data.xlsx',sheet_name='CatalonianSites', engine='openpyxl')\n",
    "df.info()\n"
   ]
  },
  {
   "cell_type": "code",
   "execution_count": null,
   "id": "fe070084-d417-4ab8-8990-24c9a7e068b2",
   "metadata": {},
   "outputs": [],
   "source": [
    "#Loading models\n",
    "full_model = load_model(model_path)\n",
    "destilled_model = load_model(model_path)\n",
    "#specific\n",
    "VdH = load_model(model_path)\n",
    "PQ = load_model(model_path)\n",
    "French = load_model(model_path)"
   ]
  },
  {
   "cell_type": "markdown",
   "id": "468168c9-8a45-4d15-b1ab-59473f9df843",
   "metadata": {},
   "source": [
    "### Prediction_function"
   ]
  },
  {
   "cell_type": "code",
   "execution_count": null,
   "id": "4f49edbc-2cd4-4d2d-aa1d-035ebfa120ce",
   "metadata": {},
   "outputs": [],
   "source": [
    "\n",
    "def predict_from_excel(model_path, excel_path, exclude_columns=None, output_column='predictions'):\n",
    "    \"\"\"\n",
    "    Carga un archivo Excel,\n",
    "    hace predicciones usando un modelo pre-entrenado de PyCaret,\n",
    "    y guarda los resultados en un nuevo archivo Excel.\n",
    "\n",
    "    :param model_path: Ruta al archivo del modelo \n",
    "    :param excel_path: Ruta al archivo con los datos de entrada\n",
    "    :param exclude_columns: Lista de columnas a excluir como entrada (opcional)\n",
    "    :param output_column: Nombre de la columna para las predicciones (por defecto: 'predictions')\n",
    "    :return: Ruta al archivo de salida con las predicciones\n",
    "    \"\"\"\n",
    "    # Loading  the model usando PyCaret\n",
    "    modelo = load_model(model_path)\n",
    "\n",
    "    # Cargar los datos\n",
    "    df = pd.read_excel(excel_path)\n",
    "\n",
    "\n",
    "    # Excluir columnas si se especifican\n",
    "    if exclude_columns:\n",
    "        df = df.drop(columns=[col for col in exclude_columns], errors='ignore')\n",
    "\n",
    "    # Hacer predicciones usando PyCaret\n",
    "    predictions = predict_model(model, data=df,raw_score=True)\n",
    "    \n",
    "    # El resultado de predict_model ya incluye las predicciones, \n",
    "    # generalmente en una columna llamada 'Label' o similar\n",
    "    # Renombrar la columna de predicciones si es necesario\n",
    "    if 'Label' in predicciones.columns:\n",
    "        predicciones = predicciones.rename(columns={'Label': output_column})\n",
    "    elif 'prediction_label' in predicciones.columns:\n",
    "        predicciones = predicciones.rename(columns={'prediction_label': output_column})\n",
    "    else:\n",
    "        # Si la columna de predicciones tiene otro nombre, ajusta esto según sea necesario\n",
    "        pass\n",
    "\n",
    "   \n",
    "    # Create name for the output file\n",
    "    base_name = os.path.splitext(excel_path)[0]\n",
    "    current_date = datetime.datetime.now().strftime(\"%Y%m%d\")\n",
    "    output_path = f\"{base_name}_{current_date}_predictions.xlsx\"\n",
    "   \n",
    "\n",
    "    # save results\n",
    "    predictions.to_excel(output_path, index=False)\n",
    "\n",
    "    return output_path"
   ]
  },
  {
   "cell_type": "code",
   "execution_count": null,
   "id": "9a773dee-c50b-4f04-863f-35a9424ae9fe",
   "metadata": {},
   "outputs": [],
   "source": [
    "\n",
    "# Usage:\n",
    "model_path = '20240827_SinCaDestilledVortex2SMOTECalibrated'\n",
    "excel_path = \"./DATA/VARISCITA ROMANA100.xlsx\"\n",
    "exclude_columns = [] \n",
    "\n",
    "try:\n",
    "    output_file = predict_from_excel(model_path, excel_path, exclude_columns)\n",
    "    print(f\"Predictions saved in: {output_file}\")\n",
    "except Exception as e:\n",
    "    print(f\"Error processing the file: {str(e)}\")"
   ]
  }
 ],
 "metadata": {
  "kernelspec": {
   "display_name": "Python 3 (ipykernel)",
   "language": "python",
   "name": "python3"
  },
  "language_info": {
   "codemirror_mode": {
    "name": "ipython",
    "version": 3
   },
   "file_extension": ".py",
   "mimetype": "text/x-python",
   "name": "python",
   "nbconvert_exporter": "python",
   "pygments_lexer": "ipython3",
   "version": "3.10.12"
  }
 },
 "nbformat": 4,
 "nbformat_minor": 5
}
