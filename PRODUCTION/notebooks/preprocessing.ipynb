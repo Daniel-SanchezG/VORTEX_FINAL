{
 "cells": [
  {
   "cell_type": "code",
   "execution_count": null,
   "id": "1b861f8b-2e83-4dbc-a1f5-5133f2d53ad1",
   "metadata": {},
   "outputs": [],
   "source": [
    "%load_ext autoreload\n",
    "%autoreload 2\n",
    "\n",
    "import pandas as pd\n",
    "import numpy as np\n",
    "from pycaret.classification import * # Machine learning tools\n",
    "import imblearn  # Resampling\n",
    "from imblearn.over_sampling import SMOTE \n",
    "from imblearn.under_sampling import CondensedNearestNeighbour \n",
    "from imblearn.under_sampling import EditedNearestNeighbours\n",
    "from sklearn.metrics import ConfusionMatrixDisplay # Model evaluation\n",
    "import matplotlib.pyplot as plt # Visualization\n",
    "import seaborn as sns\n",
    "from sklearn.metrics import classification_report # Model evaluation report\n",
    "from ipywidgets import widgets # Interactive functions\n",
    "from sklearn.metrics import classification_report"
   ]
  },
  {
   "cell_type": "code",
   "execution_count": null,
   "id": "565b6a62-8c17-4b11-94b3-116246c96e23",
   "metadata": {},
   "outputs": [],
   "source": [
    "#Cargamos el dataset desde nuestro directorio de trabajo\n",
    "#Working directory\n",
    "#df = pd.read_csv(\"DATA/20240812_vortex_trainning_float_formmated.csv\", encoding='latin-1') \n",
    "df = pd.read_excel('./DATA/20240812_vortex_trainning_float_formmated.xlsx', engine='openpyxl')\n",
    "df.info()"
   ]
  },
  {
   "cell_type": "code",
   "execution_count": null,
   "id": "f9523321-fa49-42de-aa97-6a42e41efc64",
   "metadata": {},
   "outputs": [],
   "source": [
    "# Eliminamos columnas innecesarias para nuestro experimiento\n",
    "#Some basic Feature engineering\n",
    "data = df.drop(df.iloc[:, : 22], axis=1)\n",
    "#Comprobamos que no hay valores faltantes\n",
    "# Checking missing values\n",
    "data.isnull().any().any()"
   ]
  },
  {
   "cell_type": "code",
   "execution_count": null,
   "id": "43fd27d3-14ed-4c83-8c44-282e69191610",
   "metadata": {},
   "outputs": [],
   "source": [
    "#data = data.drop(['suma'], axis=1)\n",
    "data['Site'] = df['Site']\n",
    "data['id'] = df['ID']\n",
    "data.info()"
   ]
  },
  {
   "cell_type": "code",
   "execution_count": null,
   "id": "9ca234ae-e03f-4ce1-81ae-dcd6fbd35657",
   "metadata": {},
   "outputs": [],
   "source": [
    "# 1. Comprobar si hay duplicados\n",
    "duplicados = data['id'].duplicated().sum()\n",
    "print(f\"Número de ids duplicados: {duplicados}\")\n",
    "\n",
    "# 2. Ver los ids duplicados (si existen)\n",
    "if duplicados > 0:\n",
    "    print(\"IDs duplicados:\")\n",
    "    print(data[data['id'].duplicated(keep=False)]['id'].sort_values())\n",
    "\n",
    "# 3. Eliminar duplicados, manteniendo la primera aparición\n",
    "data_sin_duplicados = data.drop_duplicates(subset='id', keep='first')\n",
    "\n",
    "# 4. Verificar que se eliminaron los duplicados\n",
    "print(f\"Tamaño original de data: {data.shape}\")\n",
    "print(f\"Tamaño de data sin duplicados: {data_sin_duplicados.shape}\")\n",
    "\n",
    "# 5. Comprobar nuevamente que no hay duplicados\n",
    "duplicados_restantes = data_sin_duplicados['id'].duplicated().sum()\n",
    "print(f\"Número de ids duplicados restantes: {duplicados_restantes}\")\n",
    "\n",
    "# 6. Si estás satisfecho con el resultado, puedes asignar el resultado de vuelta a 'data'\n",
    "data = data_sin_duplicados\n",
    "\n",
    "# 7. Reiniciar los índices si es necesario\n",
    "data.reset_index(drop=True, inplace=True)"
   ]
  },
  {
   "cell_type": "code",
   "execution_count": null,
   "id": "191da70a-5fe8-4417-b8e1-6d439783951a",
   "metadata": {},
   "outputs": [],
   "source": [
    "data.id.nunique()"
   ]
  },
  {
   "cell_type": "markdown",
   "id": "12a42501-496d-4af5-88ea-27f9f0591d77",
   "metadata": {},
   "source": [
    "We will create a random feature to be used as a threshold for choosing important features later on."
   ]
  },
  {
   "cell_type": "code",
   "execution_count": null,
   "id": "2ff54c16-3039-427b-a43a-bdbab019dd90",
   "metadata": {},
   "outputs": [],
   "source": [
    "data.info()\n",
    "data.columns"
   ]
  },
  {
   "cell_type": "code",
   "execution_count": null,
   "id": "969194d8-7702-4de3-886c-12594548906d",
   "metadata": {},
   "outputs": [],
   "source": [
    "# Distribución en el target\n",
    "target = data['Site'].value_counts()\n",
    "target"
   ]
  },
  {
   "cell_type": "code",
   "execution_count": null,
   "id": "893cae8f-64f8-4256-ad71-852a429bd2d7",
   "metadata": {},
   "outputs": [],
   "source": [
    "# Eliminación de casos. Clases <10 para el target_Group\n",
    "# Case deletion for classes >10\n",
    "casos = target[target <10]\n",
    "values = casos.index\n",
    "values\n",
    "deleted_cases= data[data['Site'].isin(values)]\n",
    "case_del = deleted_cases.index\n",
    "data.drop(case_del, inplace=True)"
   ]
  },
  {
   "cell_type": "code",
   "execution_count": null,
   "id": "1045fcf3-c34a-4093-8ad8-4a1427832dc9",
   "metadata": {},
   "outputs": [],
   "source": [
    "data['Site'].value_counts()"
   ]
  },
  {
   "cell_type": "code",
   "execution_count": null,
   "id": "e22d403c-5183-4827-b430-e6b2030240c3",
   "metadata": {},
   "outputs": [],
   "source": [
    "data.to_excel('./DATA/FinalTrainingData.xlsx')"
   ]
  },
  {
   "cell_type": "code",
   "execution_count": null,
   "id": "e4627ede-57fa-4b14-9c83-4a138dd5b047",
   "metadata": {},
   "outputs": [],
   "source": [
    "# Final Validation Set(VFS)\n",
    "data_trainning = data.sample(frac=0.90, random_state=786)\n",
    "fvs = data.drop(data_trainning.index)\n",
    "data_trainning.reset_index(inplace=True, drop=True)\n",
    "fvs.reset_index(inplace=True, drop=True)\n",
    "print('Data for further procedures: ' + str(data_trainning.shape))\n",
    "print('Data for final validation: ' + str(fvs.shape))\n"
   ]
  },
  {
   "cell_type": "code",
   "execution_count": null,
   "id": "3b3447d6-a1ac-404e-9c68-ed68c890b1fb",
   "metadata": {},
   "outputs": [],
   "source": [
    "fvs.to_csv('./DATA/FVS.csv')"
   ]
  },
  {
   "cell_type": "code",
   "execution_count": null,
   "id": "6b69d414-6089-48ab-8e56-16946e333791",
   "metadata": {},
   "outputs": [],
   "source": [
    "vs1.Site.value_counts()"
   ]
  },
  {
   "cell_type": "code",
   "execution_count": null,
   "id": "de5f0351-393d-4d9b-9f62-5a921254817b",
   "metadata": {},
   "outputs": [],
   "source": [
    "data_trainning.Site.value_counts()"
   ]
  },
  {
   "cell_type": "markdown",
   "id": "4fafc95f-491c-4ad7-8664-d71667d14370",
   "metadata": {},
   "source": [
    "#### Creating our Classification function:"
   ]
  },
  {
   "cell_type": "code",
   "execution_count": null,
   "id": "0f6c8252-5fda-4c76-a8c6-b7bd20ca1353",
   "metadata": {},
   "outputs": [],
   "source": [
    "X = data_trainning.drop(['Site', 'id'], axis=1)\n",
    "y = data_trainning['Site']"
   ]
  },
  {
   "cell_type": "markdown",
   "id": "7ae046a5-767d-4851-a4b8-664b984b9381",
   "metadata": {},
   "source": [
    "#### Data Aumentagtion of minority classes (SMOTE)\n",
    "We carry out the Synthetic Minority Oversampling Technique"
   ]
  },
  {
   "cell_type": "code",
   "execution_count": null,
   "id": "4206d946-9ac2-44c2-8abc-78ee15504626",
   "metadata": {},
   "outputs": [],
   "source": [
    "# oversampling strategy\n",
    "smote = SMOTE()\n",
    "X_smote, y_smote = smote.fit_resample(X, y)\n",
    "\n",
    "y_smote.value_counts().plot(kind='bar')\n",
    "#plt.savefig('SMOTE_distribution.png',dpi=200, bbox_inches='tight')\n",
    "y_smote.value_counts()"
   ]
  },
  {
   "cell_type": "markdown",
   "id": "49e6d0e7-576e-4325-b3fd-eeef8748ed5a",
   "metadata": {},
   "source": [
    "#### We have created a balanced synthetic data set with 752 cases per class."
   ]
  },
  {
   "cell_type": "code",
   "execution_count": null,
   "id": "55ec3999-bc30-47db-800f-615c4b903fe8",
   "metadata": {},
   "outputs": [],
   "source": [
    "# Creating final resampled dataset\n",
    "smote_data = X_smote\n",
    "smote_data['Site'] = y_smote"
   ]
  },
  {
   "cell_type": "code",
   "execution_count": null,
   "id": "d268daca-6c30-4a11-b4bd-6bd2781a0afe",
   "metadata": {},
   "outputs": [],
   "source": [
    "# Final dataset shape after resampling\n",
    "smote_data.shape\n",
    "smote_data.to_excel('./DATA/20241011FinalResampledTrainingDataset.xlsx')\n",
    "smote_data.info()"
   ]
  }
 ],
 "metadata": {
  "kernelspec": {
   "display_name": "Python 3 (ipykernel)",
   "language": "python",
   "name": "python3"
  },
  "language_info": {
   "codemirror_mode": {
    "name": "ipython",
    "version": 3
   },
   "file_extension": ".py",
   "mimetype": "text/x-python",
   "name": "python",
   "nbconvert_exporter": "python",
   "pygments_lexer": "ipython3",
   "version": "3.10.12"
  }
 },
 "nbformat": 4,
 "nbformat_minor": 5
}
