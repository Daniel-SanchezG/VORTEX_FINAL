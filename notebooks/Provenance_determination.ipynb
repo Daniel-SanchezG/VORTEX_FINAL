{
 "cells": [
  {
   "cell_type": "code",
   "execution_count": null,
   "id": "76a53600-74ce-4863-88f3-7b34efdcd619",
   "metadata": {},
   "outputs": [],
   "source": [
    "import pandas as pd\n",
    "import datetime\n",
    "import numpy as np\n",
    "from scipy.stats import entropy\n",
    "import os"
   ]
  },
  {
   "cell_type": "code",
   "execution_count": null,
   "id": "4180da5b-f180-401c-948b-35fcb7a6a186",
   "metadata": {},
   "outputs": [],
   "source": [
    "def provenance_determination(self, df):\n",
    "\n",
    "    \"\"\"\n",
    "    Performs consensus provenance detemrination based on a confidence treshold\n",
    "    Creates a summary statistics table\n",
    "\n",
    "    Args:\n",
    "        df: dataframe with probabilistic predictions\n",
    "\n",
    "    \"\"\"\n",
    "\n",
    "     # Convert score columns to numbers\n",
    "    score_columns = ['prediction_score_CT', 'prediction_score_PCM', 'prediction_score_PDLC']\n",
    "    #for col in score_cols:\n",
    "        #df[col] = df[col].str.replace(',', '.').astype(float)\n",
    "    \n",
    "    df['max_prob'] = df[score_columns].max(axis=1)\n",
    "    \n",
    "    results = []\n",
    "    for site in df['Site'].unique():\n",
    "        site_data = df[df['Site'] == site]\n",
    "        avg_uncertain = sum(site_data['max_prob'] < 0.70)/ len(site_data)*100\n",
    "        high_conf = site_data[site_data['max_prob'] > 0.70]\n",
    "        median_entropy = site_data.entropy.median()\n",
    "        \n",
    "        if len(high_conf) > 0:\n",
    "            consensus = high_conf['Uncertainty_treshold_predictions'].mode().iloc[0] # majority vote as mode of high confidence samples\n",
    "            consistency = sum(high_conf['Uncertainty_treshold_predictions'] == consensus) / len(high_conf)\n",
    "            n_consensus_pred = len(high_conf)  # Número de predicciones usadas\n",
    "        else:\n",
    "            consensus = 'No consensus'\n",
    "            consistency = 0\n",
    "            n_consensus_pred = 0\n",
    "            \n",
    "        results.append({\n",
    "            'Site': site,\n",
    "            'Samples_analyzed': len(site_data),\n",
    "            'Gavá': len(site_data[site_data['Original_predictions'] == 'CT']) ,\n",
    "            'Encinasola': len(site_data[site_data['Original_predictions'] == 'PCM']),\n",
    "            'Aliste': len(site_data[site_data['Original_predictions'] == 'PDLC']),\n",
    "            'Uncertain(%)': round(avg_uncertain),\n",
    "            'Samples_for_provenance': n_consensus_pred,\n",
    "            'Median_entropy': round(median_entropy,2),\n",
    "            'Consensus': consensus,\n",
    "            'Homogeneity': round(consistency,2)\n",
    "        })\n",
    "    \n",
    "    return pd.DataFrame(results)"
   ]
  },
  {
   "cell_type": "code",
   "execution_count": null,
   "id": "a675657f-7643-47ad-821b-0ea686032512",
   "metadata": {},
   "outputs": [],
   "source": [
    "summary_df = provenance_determination(results)\n",
    "summary_df"
   ]
  }
 ],
 "metadata": {
  "kernelspec": {
   "display_name": "Python 3 (ipykernel)",
   "language": "python",
   "name": "python3"
  },
  "language_info": {
   "codemirror_mode": {
    "name": "ipython",
    "version": 3
   },
   "file_extension": ".py",
   "mimetype": "text/x-python",
   "name": "python",
   "nbconvert_exporter": "python",
   "pygments_lexer": "ipython3",
   "version": "3.10.12"
  }
 },
 "nbformat": 4,
 "nbformat_minor": 5
}
