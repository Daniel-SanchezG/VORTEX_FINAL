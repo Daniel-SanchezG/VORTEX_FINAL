{
 "cells": [
  {
   "cell_type": "markdown",
   "id": "141d57e8-4bac-4980-ba72-1b75e1387c4f",
   "metadata": {},
   "source": [
    "Funcion creada con asistencia de Claude 3.5 Sonnet"
   ]
  },
  {
   "cell_type": "code",
   "execution_count": 1,
   "id": "218e8455-92f3-48a5-816b-cf43558a1395",
   "metadata": {},
   "outputs": [],
   "source": [
    "%load_ext autoreload\n",
    "%autoreload 2\n",
    "\n",
    "import pandas as pd\n",
    "import pickle  # Cambiamos joblib por pickle\n",
    "import os\n"
   ]
  },
  {
   "cell_type": "markdown",
   "id": "080f3b72-3a28-43ff-b9b6-c59f4bdbf382",
   "metadata": {},
   "source": [
    "# Version  FUNCIONAL"
   ]
  },
  {
   "cell_type": "code",
   "execution_count": 1,
   "id": "4862256c-8f1e-4e5a-9538-a067fa4f0d04",
   "metadata": {},
   "outputs": [],
   "source": [
    "\n",
    "\n",
    "def predict_from_excel(model_path, excel_path, exclude_columns=None, output_column='predicciones'):\n",
    "    \"\"\"\n",
    "    Carga un archivo Excel, añade una columna 'rand' con valores 0,\n",
    "    hace predicciones usando un modelo pre-entrenado de PyCaret,\n",
    "    y guarda los resultados en un nuevo archivo Excel.\n",
    "\n",
    "    :param model_path: Ruta al archivo del modelo guardado con PyCaret\n",
    "    :param excel_path: Ruta al archivo Excel con los datos de entrada\n",
    "    :param exclude_columns: Lista de columnas a excluir como entrada (opcional)\n",
    "    :param output_column: Nombre de la columna para las predicciones (por defecto: 'predicciones')\n",
    "    :return: Ruta al archivo Excel de salida con las predicciones\n",
    "    \"\"\"\n",
    "    # Cargar el modelo usando PyCaret\n",
    "    modelo = load_model(model_path)\n",
    "\n",
    "    # Cargar los datos\n",
    "    df = pd.read_excel(excel_path)\n",
    "\n",
    "    # Añadir la columna 'rand' con valores 0\n",
    "    df['rand'] = 0\n",
    "\n",
    "    # Excluir columnas si se especifican\n",
    "    if exclude_columns:\n",
    "        df = df.drop(columns=[col for col in exclude_columns if col != 'rand'], errors='ignore')\n",
    "\n",
    "    # Hacer predicciones usando PyCaret\n",
    "    predicciones = predict_model(modelo, data=df,raw_score=True)\n",
    "    #predicciones = predict_model(estimator=modelo, data=df, raw_score=True)\n",
    "\n",
    "    # El resultado de predict_model ya incluye las predicciones, \n",
    "    # generalmente en una columna llamada 'Label' o similar\n",
    "    # Renombrar la columna de predicciones si es necesario\n",
    "    if 'Label' in predicciones.columns:\n",
    "        predicciones = predicciones.rename(columns={'Label': output_column})\n",
    "    elif 'prediction_label' in predicciones.columns:\n",
    "        predicciones = predicciones.rename(columns={'prediction_label': output_column})\n",
    "    else:\n",
    "        # Si la columna de predicciones tiene otro nombre, ajusta esto según sea necesario\n",
    "        pass\n",
    "\n",
    "    # Eliminar la columna 'rand' del resultado final si no se necesita\n",
    "    if 'rand' in predicciones.columns:\n",
    "        predicciones = predicciones.drop(columns=['rand'])\n",
    "\n",
    "    # Crear nombre para el archivo de salida\n",
    "    base_name = os.path.splitext(excel_path)[0]\n",
    "    current_date = datetime.datetime.now().strftime(\"%Y%m%d\")\n",
    "    output_path = f\"{base_name}_{current_date}_predicciones.xlsx\"\n",
    "   #output_path = f\"{base_name}_con_predicciones.xlsx\"\n",
    "\n",
    "    # Guardar resultados\n",
    "    predicciones.to_excel(output_path, index=False)\n",
    "\n",
    "    return output_path\n",
    "\n"
   ]
  },
  {
   "cell_type": "code",
   "execution_count": 4,
   "id": "48531e15-69b9-427a-a091-ce2406b6ca7b",
   "metadata": {},
   "outputs": [
    {
     "name": "stdout",
     "output_type": "stream",
     "text": [
      "Transformation Pipeline and Model Successfully Loaded\n",
      "Error al procesar el archivo: \"['In', 'W'] not in index\"\n"
     ]
    }
   ],
   "source": [
    "\n",
    "# Ejemplo de uso:\n",
    "model_path = '20240827_SinCaDestilledVortex2SMOTECalibrated'\n",
    "excel_path = \"./DATA/VARISCITA ROMANA100.xlsx\"\n",
    "exclude_columns = []  # Columnas que no son para el modelo\n",
    "\n",
    "try:\n",
    "    output_file = predict_from_excel(model_path, excel_path, exclude_columns)\n",
    "    print(f\"Predicciones guardadas en: {output_file}\")\n",
    "except Exception as e:\n",
    "    print(f\"Error al procesar el archivo: {str(e)}\")"
   ]
  },
  {
   "cell_type": "code",
   "execution_count": null,
   "id": "80520102-f92f-4a54-8550-346f62cd8f2b",
   "metadata": {},
   "outputs": [],
   "source": [
    "df = pd.read_excel(\"/media/dsg/TOSHIBA EXT/PhD/DATA/XRF_VORTEX_MACLAS/20241107XRF_MACLASpredsONLYPhosph.xlsx\")\n"
   ]
  },
  {
   "cell_type": "code",
   "execution_count": 17,
   "id": "05f1f48d-b161-47b0-a790-14c61a5718e6",
   "metadata": {},
   "outputs": [
    {
     "name": "stdout",
     "output_type": "stream",
     "text": [
      "<class 'pandas.core.frame.DataFrame'>\n",
      "RangeIndex: 4330 entries, 0 to 4329\n",
      "Data columns (total 115 columns):\n",
      " #    Column                  Non-Null Count  Dtype  \n",
      "---   ------                  --------------  -----  \n",
      " 0    Unnamed: 0.2            4330 non-null   int64  \n",
      " 1    Unnamed: 0.1            4330 non-null   int64  \n",
      " 2    Unnamed: 0              4330 non-null   int64  \n",
      " 3    Name                    4330 non-null   object \n",
      " 4    Inv. Pieza              2718 non-null   object \n",
      " 5    Site                    4328 non-null   object \n",
      " 6    PK_coord                4213 non-null   object \n",
      " 7    Publicada               4330 non-null   bool   \n",
      " 8    TIPO                    4328 non-null   object \n",
      " 9    Date HALO               413 non-null    object \n",
      " 10   INV. HALO               232 non-null    object \n",
      " 11   HALO 1                  229 non-null    object \n",
      " 12   HALO 2                  35 non-null     object \n",
      " 13   HALO 3                  14 non-null     object \n",
      " 14   HALO 4                  5 non-null      object \n",
      " 15   XRD_code                404 non-null    object \n",
      " 16   XRD_path                355 non-null    object \n",
      " 17   XRD_MIN_                663 non-null    object \n",
      " 18   XRD_MIN_2               17 non-null     object \n",
      " 19   XRD_MIN_3               1 non-null      object \n",
      " 20   Group                   699 non-null    object \n",
      " 21   Subgroup                699 non-null    object \n",
      " 22   Hey's CIM               701 non-null    object \n",
      " 23   Grupo_min               2 non-null      object \n",
      " 24   Raman                   0 non-null      float64\n",
      " 25   ID_XMET                 4329 non-null   object \n",
      " 26   Method                  4330 non-null   object \n",
      " 27   Date XRF                4330 non-null   object \n",
      " 28   Time                    4328 non-null   object \n",
      " 29   Duration                4329 non-null   float64\n",
      " 30   Mg                      4330 non-null   float64\n",
      " 31   Al                      4330 non-null   float64\n",
      " 32   Si                      4330 non-null   float64\n",
      " 33   P                       4330 non-null   float64\n",
      " 34   S                       4330 non-null   float64\n",
      " 35   Cl                      4330 non-null   float64\n",
      " 36   Ar                      4330 non-null   float64\n",
      " 37   K                       4330 non-null   float64\n",
      " 38   Ca                      4330 non-null   float64\n",
      " 39   Sc                      4330 non-null   float64\n",
      " 40   Ti                      4330 non-null   float64\n",
      " 41   V                       4330 non-null   float64\n",
      " 42   Cr                      4330 non-null   float64\n",
      " 43   Mn                      4330 non-null   float64\n",
      " 44   Fe                      4330 non-null   float64\n",
      " 45   Co                      4330 non-null   float64\n",
      " 46   Ni                      4330 non-null   float64\n",
      " 47   Cu                      4330 non-null   float64\n",
      " 48   Zn                      4330 non-null   float64\n",
      " 49   Ga                      4330 non-null   float64\n",
      " 50   Ge                      4330 non-null   float64\n",
      " 51   As                      4330 non-null   float64\n",
      " 52   Se                      4330 non-null   float64\n",
      " 53   Br                      4330 non-null   float64\n",
      " 54   Kr                      4330 non-null   float64\n",
      " 55   Rb                      4330 non-null   float64\n",
      " 56   Sr                      4330 non-null   float64\n",
      " 57   Y                       4330 non-null   float64\n",
      " 58   Zr                      4330 non-null   float64\n",
      " 59   Nb                      4330 non-null   float64\n",
      " 60   Mo                      4330 non-null   float64\n",
      " 61   Tc                      4330 non-null   float64\n",
      " 62   Ru                      4330 non-null   float64\n",
      " 63   Rh                      4330 non-null   float64\n",
      " 64   Pd                      4330 non-null   float64\n",
      " 65   Ag                      4330 non-null   float64\n",
      " 66   Cd                      4330 non-null   float64\n",
      " 67   In                      4330 non-null   float64\n",
      " 68   Sn                      4330 non-null   float64\n",
      " 69   Sb                      4330 non-null   float64\n",
      " 70   Te                      4330 non-null   float64\n",
      " 71   I                       4330 non-null   int64  \n",
      " 72   Xe                      4330 non-null   int64  \n",
      " 73   Cs                      4330 non-null   int64  \n",
      " 74   Ba                      4330 non-null   float64\n",
      " 75   La                      4330 non-null   float64\n",
      " 76   Ce                      4330 non-null   int64  \n",
      " 77   Pr                      4330 non-null   int64  \n",
      " 78   Nd                      4330 non-null   int64  \n",
      " 79   Pm                      4330 non-null   int64  \n",
      " 80   Sm                      4330 non-null   int64  \n",
      " 81   Eu                      4330 non-null   int64  \n",
      " 82   Gd                      4330 non-null   int64  \n",
      " 83   Tb                      4330 non-null   int64  \n",
      " 84   Dy                      4330 non-null   int64  \n",
      " 85   Ho                      4330 non-null   int64  \n",
      " 86   Er                      4330 non-null   int64  \n",
      " 87   Tm                      4330 non-null   int64  \n",
      " 88   Yb                      4330 non-null   int64  \n",
      " 89   Lu                      4330 non-null   int64  \n",
      " 90   Hf                      4330 non-null   int64  \n",
      " 91   Ta                      4330 non-null   float64\n",
      " 92   W                       4330 non-null   float64\n",
      " 93   Re                      4330 non-null   int64  \n",
      " 94   Os                      4330 non-null   int64  \n",
      " 95   Ir                      4330 non-null   int64  \n",
      " 96   Pt                      4330 non-null   int64  \n",
      " 97   Au                      4330 non-null   float64\n",
      " 98   Hg                      4330 non-null   float64\n",
      " 99   Tl                      4330 non-null   float64\n",
      " 100  Pb                      4330 non-null   float64\n",
      " 101  Bi                      4330 non-null   float64\n",
      " 102  Po                      4330 non-null   int64  \n",
      " 103  At                      4330 non-null   int64  \n",
      " 104  Rn                      4330 non-null   int64  \n",
      " 105  Fr                      4330 non-null   int64  \n",
      " 106  Ra                      4330 non-null   int64  \n",
      " 107  Ac                      4330 non-null   int64  \n",
      " 108  Th                      4330 non-null   float64\n",
      " 109  Pa                      4330 non-null   int64  \n",
      " 110  U                       4330 non-null   int64  \n",
      " 111  Σ                       4330 non-null   int64  \n",
      " 112  Predicted_Major_Groups  4330 non-null   object \n",
      " 113  prediction_label        4330 non-null   object \n",
      " 114  top_3_probs             4330 non-null   object \n",
      "dtypes: bool(1), float64(53), int64(34), object(27)\n",
      "memory usage: 3.8+ MB\n"
     ]
    }
   ],
   "source": [
    "df.info(verbose=True, null_counts=True)"
   ]
  },
  {
   "cell_type": "markdown",
   "id": "afd37f87-2fc5-4912-a4fb-cd85efde0449",
   "metadata": {},
   "source": [
    "**para usar con diferentes archivos**"
   ]
  },
  {
   "cell_type": "code",
   "execution_count": 12,
   "id": "c0d7fd28-397d-4421-a8ec-b06b1277cc39",
   "metadata": {},
   "outputs": [
    {
     "name": "stdout",
     "output_type": "stream",
     "text": [
      "Transformation Pipeline and Model Successfully Loaded\n",
      "Error al procesar datos1.xlsx: [Errno 2] No such file or directory: 'datos1.xlsx'\n",
      "Transformation Pipeline and Model Successfully Loaded\n",
      "Error al procesar datos2.xlsx: [Errno 2] No such file or directory: 'datos2.xlsx'\n",
      "Transformation Pipeline and Model Successfully Loaded\n",
      "Error al procesar datos3.xlsx: [Errno 2] No such file or directory: 'datos3.xlsx'\n"
     ]
    }
   ],
   "source": [
    "# Procesar múltiples archivos\n",
    "excel_files = ['datos1.xlsx', 'datos2.xlsx', 'datos3.xlsx']\n",
    "\n",
    "for file in excel_files:\n",
    "    try:\n",
    "        output = predict_from_excel(model_path, file)\n",
    "        print(f\"Predicciones para {file} guardadas en: {output}\")\n",
    "    except Exception as e:\n",
    "        print(f\"Error al procesar {file}: {str(e)}\")"
   ]
  }
 ],
 "metadata": {
  "kernelspec": {
   "display_name": "Python 3 (ipykernel)",
   "language": "python",
   "name": "python3"
  },
  "language_info": {
   "codemirror_mode": {
    "name": "ipython",
    "version": 3
   },
   "file_extension": ".py",
   "mimetype": "text/x-python",
   "name": "python",
   "nbconvert_exporter": "python",
   "pygments_lexer": "ipython3",
   "version": "3.10.12"
  }
 },
 "nbformat": 4,
 "nbformat_minor": 5
}
