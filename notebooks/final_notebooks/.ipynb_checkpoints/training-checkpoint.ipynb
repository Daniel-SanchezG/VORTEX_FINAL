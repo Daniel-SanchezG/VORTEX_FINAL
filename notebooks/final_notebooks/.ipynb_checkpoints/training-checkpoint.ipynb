{
 "cells": [
  {
   "cell_type": "code",
   "execution_count": 1,
   "id": "2017df1a-db6d-484a-bc64-92b428343fa2",
   "metadata": {},
   "outputs": [],
   "source": [
    "import pandas as pd\n",
    "import numpy as np\n",
    "from pycaret.classification import * # Machine learning tools\n",
    "from sklearn.metrics import ConfusionMatrixDisplay # Model evaluation\n",
    "import matplotlib.pyplot as plt # Visualization\n",
    "import seaborn as sns\n",
    "from sklearn.metrics import classification_report # Model evaluation report\n",
    "from sklearn.metrics import confusion_matrix\n"
   ]
  },
  {
   "cell_type": "code",
   "execution_count": 2,
   "id": "18f3cd9d-7b25-441d-9609-3fb65345c301",
   "metadata": {},
   "outputs": [
    {
     "name": "stdout",
     "output_type": "stream",
     "text": [
      "<class 'pandas.core.frame.DataFrame'>\n",
      "RangeIndex: 2256 entries, 0 to 2255\n",
      "Data columns (total 46 columns):\n",
      " #   Column  Non-Null Count  Dtype  \n",
      "---  ------  --------------  -----  \n",
      " 0   Al      2256 non-null   float64\n",
      " 1   Si      2256 non-null   float64\n",
      " 2   P       2256 non-null   float64\n",
      " 3   S       2256 non-null   float64\n",
      " 4   Cl      2256 non-null   float64\n",
      " 5   K       2256 non-null   float64\n",
      " 6   Ca      2256 non-null   float64\n",
      " 7   Sc      2256 non-null   float64\n",
      " 8   Ti      2256 non-null   float64\n",
      " 9   V       2256 non-null   float64\n",
      " 10  Cr      2256 non-null   float64\n",
      " 11  Mn      2256 non-null   float64\n",
      " 12  Fe      2256 non-null   float64\n",
      " 13  Co      2256 non-null   float64\n",
      " 14  Ni      2256 non-null   float64\n",
      " 15  Cu      2256 non-null   float64\n",
      " 16  Zn      2256 non-null   float64\n",
      " 17  Ga      2256 non-null   float64\n",
      " 18  Ge      2256 non-null   float64\n",
      " 19  As      2256 non-null   float64\n",
      " 20  Se      2256 non-null   float64\n",
      " 21  Br      2256 non-null   float64\n",
      " 22  Rb      2256 non-null   float64\n",
      " 23  Sr      2256 non-null   float64\n",
      " 24  Y       2256 non-null   float64\n",
      " 25  Zr      2256 non-null   float64\n",
      " 26  Nb      2256 non-null   float64\n",
      " 27  Mo      2256 non-null   float64\n",
      " 28  Ru      2256 non-null   float64\n",
      " 29  Pd      2256 non-null   float64\n",
      " 30  Ag      2256 non-null   float64\n",
      " 31  Cd      2256 non-null   float64\n",
      " 32  In      2256 non-null   float64\n",
      " 33  Sn      2256 non-null   float64\n",
      " 34  Sb      2256 non-null   float64\n",
      " 35  Te      2256 non-null   float64\n",
      " 36  Ba      2256 non-null   float64\n",
      " 37  Ta      2256 non-null   float64\n",
      " 38  W       2256 non-null   float64\n",
      " 39  Au      2256 non-null   float64\n",
      " 40  Hg      2256 non-null   float64\n",
      " 41  Tl      2256 non-null   float64\n",
      " 42  Pb      2256 non-null   float64\n",
      " 43  Th      2256 non-null   float64\n",
      " 44  suma    2256 non-null   float64\n",
      " 45  Site    2256 non-null   object \n",
      "dtypes: float64(45), object(1)\n",
      "memory usage: 810.9+ KB\n"
     ]
    }
   ],
   "source": [
    "df = pd.read_excel('/home/dsg/vortex/PRODUCTION/DATA/processed/training_data.xlsx', engine='openpyxl')\n",
    "df.info()"
   ]
  },
  {
   "cell_type": "code",
   "execution_count": null,
   "id": "32153212-564d-409c-95f3-19369afdd8cc",
   "metadata": {},
   "outputs": [],
   "source": [
    "# Experiment setup \n",
    "\n",
    "experiment = setup(data=smote_data, target= 'Site',train_size=0.8, session_id=123)"
   ]
  },
  {
   "cell_type": "code",
   "execution_count": null,
   "id": "8b922bca-23df-4381-ab9e-26e05338a143",
   "metadata": {},
   "outputs": [],
   "source": [
    "remove_metric('MCC')\n",
    "remove_metric('Kappa')\n",
    "remove_metric('AUC')\n",
    "#'AUC', , 'MCC'"
   ]
  },
  {
   "cell_type": "code",
   "execution_count": null,
   "id": "c9b7fe2b-1638-4eac-93eb-8311c3d92c04",
   "metadata": {},
   "outputs": [],
   "source": [
    "rf = create_model('rf', class_weight=\"balanced\", criterion='entropy')"
   ]
  },
  {
   "cell_type": "code",
   "execution_count": null,
   "id": "1522fee4-1f21-43bc-aa81-8fa933fa3de4",
   "metadata": {},
   "outputs": [],
   "source": [
    "rf_model_score_grid = pull()\n",
    "rf_model_score_grid.to_csv('/home/dsg/vortex/PRODUCTION/outputs/tables/rf_model_score_grid.csv')\n"
   ]
  },
  {
   "cell_type": "code",
   "execution_count": null,
   "id": "a2f98f6e-6bdd-4c8f-a99b-77c70d53e710",
   "metadata": {},
   "outputs": [],
   "source": [
    "tuned_model = tune_model(rf, n_iter=10, tuner_verbose=True, optimize='F1', custom_grid = {'criterion': ['entropy']})"
   ]
  },
  {
   "cell_type": "code",
   "execution_count": null,
   "id": "09f0310b-0c3d-4dc8-a14e-dbfa64aac6fc",
   "metadata": {},
   "outputs": [],
   "source": [
    "tuned_model_score_grid = pull()\n",
    "tuned_model_score_grid.to_csv('/home/dsg/vortex/PRODUCTION/outputs/tables/tuned_model_score_grid.csv')\n"
   ]
  },
  {
   "cell_type": "markdown",
   "id": "26a8bd8e-a5f6-473e-887b-a83e538b4a8e",
   "metadata": {},
   "source": [
    "### Model Calibration:\n",
    "This function calibrates the probability of a given estimator using a sigmoid regressor, based on Platt’s logistic model. The output of this function is a score grid with CV scores by fold.\n",
    "By default function uses Logistic regression model to transform probabilities.\n",
    "\n",
    "We implement this step to use probabilistic prediction as a vector for the computation and management of uncertainty. \n"
   ]
  },
  {
   "cell_type": "code",
   "execution_count": null,
   "id": "ee081bb6-6a85-45f5-a458-358908d6bf26",
   "metadata": {},
   "outputs": [],
   "source": [
    "cal_model = calibrate_model(tuned_model)\n",
    "cal_model"
   ]
  },
  {
   "cell_type": "code",
   "execution_count": null,
   "id": "50ad065a-435d-4704-b24f-a069d9d89a94",
   "metadata": {},
   "outputs": [],
   "source": [
    "cal_model_score_grid = pull()\n",
    "cal_model_score_grid.to_csv('/home/dsg/vortex/PRODUCTION/outputs/tables/calibrated_model_score_grid.csv')\n"
   ]
  },
  {
   "cell_type": "markdown",
   "id": "3eab6875-9e79-4c75-aa17-719006057f9c",
   "metadata": {},
   "source": [
    "### Model Final Training iteration:\n",
    "\n",
    "In this step the model is re-trained with all available data for use in the real world."
   ]
  },
  {
   "cell_type": "code",
   "execution_count": null,
   "id": "597b5197-a299-4273-9449-b89d41008caf",
   "metadata": {},
   "outputs": [],
   "source": [
    "final_model = finalize_model(cal_model)\n"
   ]
  },
  {
   "cell_type": "markdown",
   "id": "2169121d-c1f6-423b-bc3e-838f50b21d29",
   "metadata": {},
   "source": [
    "### Final validation on unseen data:\n",
    "\n",
    "In this step we use the final validation subset reserved at the beginning.\n"
   ]
  },
  {
   "cell_type": "code",
   "execution_count": null,
   "id": "220d146e-c9de-494a-8d4c-c136e2b59a4f",
   "metadata": {},
   "outputs": [],
   "source": [
    "fvs = pd.read_excel('/home/dsg/vortex/PRODUCTION/DATA/processed/final_validation_set.xlsx', engine='openpyxl')\n",
    "\n",
    "unseen_predictions = predict_model(final_model, data=fvs)\n",
    "\n",
    "# Guardamos el archivo producto de las predicciones a los datos de validación para posteriores análisis\n",
    "unseen_predictions.to_csv(\"/home/dsg/vortex/PRODUCTION/outputs/tables/VFSPredicitons.csv\")\n",
    "\n",
    "unseen_predictions"
   ]
  },
  {
   "cell_type": "code",
   "execution_count": null,
   "id": "5b162a44-c849-4044-bcfa-76306ccb73f6",
   "metadata": {},
   "outputs": [],
   "source": [
    "y_true = unseen_predictions['Site']\n",
    "y_pred = unseen_predictions['prediction_label']\n",
    "class_report = pd.DataFrame(classification_report(y_true, y_pred, output_dict=True)).T\n",
    "#class_rep_vs1.to_csv('./TABLES/20240826_classificationReportVs1.csv')\n",
    "class_report\n",
    "class_report.to_csv('/home/dsg/vortex/PRODUCTION/outputs/tables/fvsClassificationReport.csv')"
   ]
  },
  {
   "cell_type": "code",
   "execution_count": null,
   "id": "9cdc6c7e-9f6b-4a50-b2f6-4fc08667f60b",
   "metadata": {},
   "outputs": [],
   "source": [
    "from sklearn.metrics import confusion_matrix\n",
    "cm = confusion_matrix(y_true,y_pred)\n",
    "disp = ConfusionMatrixDisplay(confusion_matrix=cm,display_labels= ['Gavá', 'Terena', 'Aliste'])\n",
    "disp.plot(cmap='Greens')\n",
    "plt.savefig(\"/home/dsg/vortex/PRODUCTION/outputs/plots/ConfMatrixFvs.png\",bbox_inches='tight')\n"
   ]
  },
  {
   "cell_type": "markdown",
   "id": "7d0c61f7-8791-4fc7-b18d-b0578e05fd48",
   "metadata": {},
   "source": [
    "### Save the Model\n",
    "This function saves the transformation pipeline and trained model object into the current working directory as a pickle file for later use."
   ]
  },
  {
   "cell_type": "code",
   "execution_count": null,
   "id": "7e40ac0d-7e2d-4a6a-b22e-ee1ee2a576e5",
   "metadata": {},
   "outputs": [],
   "source": [
    "save_model(final_model, model_name = '/home/dsg/vortex/PRODUCTION/outputs/models/VortexCalibrated',verbose=True)"
   ]
  }
 ],
 "metadata": {
  "kernelspec": {
   "display_name": "Python 3 (ipykernel)",
   "language": "python",
   "name": "python3"
  },
  "language_info": {
   "codemirror_mode": {
    "name": "ipython",
    "version": 3
   },
   "file_extension": ".py",
   "mimetype": "text/x-python",
   "name": "python",
   "nbconvert_exporter": "python",
   "pygments_lexer": "ipython3",
   "version": "3.10.12"
  }
 },
 "nbformat": 4,
 "nbformat_minor": 5
}
